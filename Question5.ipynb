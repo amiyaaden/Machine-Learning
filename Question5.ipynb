{
  "nbformat": 4,
  "nbformat_minor": 0,
  "metadata": {
    "colab": {
      "provenance": [],
      "authorship_tag": "ABX9TyOD4PVFla/gO3d8UVBF2HPp",
      "include_colab_link": true
    },
    "kernelspec": {
      "name": "python3",
      "display_name": "Python 3"
    },
    "language_info": {
      "name": "python"
    }
  },
  "cells": [
    {
      "cell_type": "markdown",
      "metadata": {
        "id": "view-in-github",
        "colab_type": "text"
      },
      "source": [
        "<a href=\"https://colab.research.google.com/github/amiyaaden/Machine-Learning/blob/main/Question5.ipynb\" target=\"_parent\"><img src=\"https://colab.research.google.com/assets/colab-badge.svg\" alt=\"Open In Colab\"/></a>"
      ]
    },
    {
      "cell_type": "code",
      "execution_count": 1,
      "metadata": {
        "id": "XEB-GPfUsWKt"
      },
      "outputs": [],
      "source": [
        "import pandas as pd\n",
        "from sklearn.feature_extraction.text import CountVectorizer\n",
        "from sklearn.preprocessing import normalize\n",
        "from sklearn.cluster import KMeans"
      ]
    },
    {
      "cell_type": "code",
      "source": [
        "# Load the dataset from CSV\n",
        "data2 = pd.read_excel('/content/chatgpt1-2.xlsx') "
      ],
      "metadata": {
        "id": "0Y76POJbwIX0"
      },
      "execution_count": 4,
      "outputs": []
    },
    {
      "cell_type": "code",
      "source": [
        "data = data2.head(1000)"
      ],
      "metadata": {
        "id": "IQffEWPzwbMD"
      },
      "execution_count": 5,
      "outputs": []
    },
    {
      "cell_type": "code",
      "source": [
        "# Preprocessing\n",
        "data = data.dropna(subset=['Text', 'hashtag'])  # Remove rows with missing tweet text or hashtags"
      ],
      "metadata": {
        "id": "FZUlCsCYwONy"
      },
      "execution_count": 8,
      "outputs": []
    },
    {
      "cell_type": "code",
      "source": [
        "# Extract hashtags from tweet text\n",
        "data['hashtag'] = data['Text'].str.findall(r'#\\w+')"
      ],
      "metadata": {
        "id": "px4Qbw8dwkn0"
      },
      "execution_count": 10,
      "outputs": []
    },
    {
      "cell_type": "code",
      "source": [
        "# Count the frequency of each hashtag in the dataset\n",
        "hashtags_freq = pd.Series([x for y in data['hashtag'] for x in y]).value_counts()"
      ],
      "metadata": {
        "id": "smnuV46_w7Bk"
      },
      "execution_count": 12,
      "outputs": []
    },
    {
      "cell_type": "code",
      "source": [
        "# Create a feature matrix\n",
        "vectorizer = CountVectorizer(token_pattern=r'#\\w+')\n",
        "X = vectorizer.fit_transform(data['Text'])\n",
        "X = X.toarray()\n",
        "X = normalize(X, axis=1)"
      ],
      "metadata": {
        "id": "5Rka7g_jxD5T"
      },
      "execution_count": 14,
      "outputs": []
    },
    {
      "cell_type": "code",
      "source": [
        "# Train a K-means clustering model\n",
        "k = 5  # Number of clusters\n",
        "kmeans = KMeans(n_clusters=k)\n",
        "kmeans.fit(X)\n",
        "\n",
        "# Analyze the clusters\n",
        "for i in range(k):\n",
        "    cluster_tweets = data[kmeans.labels_ == i]\n",
        "    cluster_hashtags = pd.Series([x for y in cluster_tweets['hashtag'] for x in y])\n",
        "    common_hashtags = cluster_hashtags.value_counts().head(10)\n",
        "    print(f\"Cluster {i+1} common hashtags: {', '.join(common_hashtags.index)}\")"
      ],
      "metadata": {
        "colab": {
          "base_uri": "https://localhost:8080/"
        },
        "id": "usuIWrvcxM1o",
        "outputId": "a9c5082c-66ee-4bb2-d06f-f82fbccb3dce"
      },
      "execution_count": 16,
      "outputs": [
        {
          "output_type": "stream",
          "name": "stderr",
          "text": [
            "/usr/local/lib/python3.10/dist-packages/sklearn/cluster/_kmeans.py:870: FutureWarning: The default value of `n_init` will change from 10 to 'auto' in 1.4. Set the value of `n_init` explicitly to suppress the warning\n",
            "  warnings.warn(\n"
          ]
        },
        {
          "output_type": "stream",
          "name": "stdout",
          "text": [
            "Cluster 1 common hashtags: #AI, #bigdata, #ChatGPT, #ArtificialIntelligence, #ãƒ, #ç, #Analytics, #DataScience, #OpenAI, #eCommerce\n",
            "Cluster 2 common hashtags: #ChatGPT, #chatgpt, #OpenAI, #chatGPT, #openai, #openAI, #Ú, #IntelligenceArtificielle, #ChatGpt, #gpt\n",
            "Cluster 3 common hashtags: #technology, #Tech, #tech, #BGRIndia, #technews, #chatgpt, #shorts, #NewsFlash, #Technology, #Bot\n",
            "Cluster 4 common hashtags: #ArtificialIntelligence, #ChatGPT, #chatGPT, #visionary, #future, #MachineLearning, #chatgpt3\n",
            "Cluster 5 common hashtags: #AI, #ChatGPT, #chatgpt, #ai, #GPT3, #GenerativeAI, #LearnWithSundar, #Google, #AIFuture, #Shareknowledge\n"
          ]
        }
      ]
    },
    {
      "cell_type": "code",
      "source": [],
      "metadata": {
        "id": "4aJ8ivmQxRBj"
      },
      "execution_count": null,
      "outputs": []
    }
  ]
}